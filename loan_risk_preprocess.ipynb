{
  "nbformat": 4,
  "nbformat_minor": 0,
  "metadata": {
    "colab": {
      "provenance": []
    },
    "kernelspec": {
      "name": "python3",
      "display_name": "Python 3"
    },
    "language_info": {
      "name": "python"
    }
  },
  "cells": [
    {
      "cell_type": "code",
      "source": [
        "import pandas as pd\n",
        "\n",
        "df = pd.read_csv(\"loan.csv\", low_memory=False)\n",
        "\n",
        "cols = [\n",
        "    \"loan_amnt\", \"term\", \"int_rate\", \"annual_inc\", \"grade\",\n",
        "    \"dti\", \"emp_length\", \"desc\", \"loan_status\"\n",
        "]\n",
        "df = df[cols].dropna()\n",
        "\n",
        "df = df[df[\"loan_status\"].isin([\"Fully Paid\", \"Charged Off\", \"Default\"])]\n",
        "\n",
        "df = df[~df[\"desc\"].str.strip().str.lower().isin([\"\", \"no description provided.\"])]\n",
        "\n",
        "df[\"term\"] = df[\"term\"].str.extract(r\"(\\d+)\").astype(int)\n",
        "df[\"int_rate\"] = df[\"int_rate\"].str.rstrip(\"%\").astype(float)\n",
        "\n",
        "# Map loan status to risk\n",
        "df[\"risk\"] = df[\"loan_status\"].apply(lambda x: \"Low Risk\" if x == \"Fully Paid\" else \"High Risk\")\n",
        "\n",
        "# Balance dataset: 500 Low Risk + 500 High Risk\n",
        "low_risk = df[df[\"risk\"] == \"Low Risk\"].sample(n=500, random_state=42)\n",
        "high_risk = df[df[\"risk\"] == \"High Risk\"].sample(n=500, random_state=42)\n",
        "balanced_df = pd.concat([low_risk, high_risk]).sample(frac=1, random_state=42).reset_index(drop=True)\n",
        "\n",
        "def generate_reason(row):\n",
        "    reasons = []\n",
        "\n",
        "    if row[\"grade\"] in [\"A\", \"B\"]:\n",
        "        reasons.append(\"good credit rating\")\n",
        "    elif row[\"grade\"] in [\"F\", \"G\"]:\n",
        "        reasons.append(\"poor credit rating\")\n",
        "    else:\n",
        "        reasons.append(\"moderate credit rating\")\n",
        "\n",
        "    if row[\"dti\"] > 30:\n",
        "        reasons.append(\"high debt-to-income ratio\")\n",
        "    else:\n",
        "        reasons.append(\"acceptable DTI\")\n",
        "\n",
        "    if isinstance(row[\"emp_length\"], str) and \"10\" in row[\"emp_length\"]:\n",
        "        reasons.append(\"long employment history\")\n",
        "\n",
        "    if row[\"annual_inc\"] >= 100000:\n",
        "        reasons.append(\"high income\")\n",
        "    elif row[\"annual_inc\"] < 40000:\n",
        "        reasons.append(\"low income\")\n",
        "\n",
        "    return f\"{row['risk']}. Reason: \" + \", \".join(reasons).capitalize() + \".\"\n",
        "\n",
        "# Function to generate prompt and response\n",
        "def make_prompt_response(row):\n",
        "    prompt = (\n",
        "        f\"Loan Application:\\n\"\n",
        "        f\"Amount: ${int(row['loan_amnt'])}\\n\"\n",
        "        f\"Term: {row['term']} months\\n\"\n",
        "        f\"Interest Rate: {row['int_rate']}%\\n\"\n",
        "        f\"Annual Income: ${int(row['annual_inc'])}\\n\"\n",
        "        f\"Credit Rating: {row['grade']}\\n\"\n",
        "        f\"DTI: {row['dti']}\\n\"\n",
        "        f\"Employment Length: {row['emp_length']}\\n\"\n",
        "        f\"Description: {row['desc'].strip()}\\n\\n\"\n",
        "        f\"Is this a high-risk or low-risk borrower? Explain why.\"\n",
        "    )\n",
        "    response = generate_reason(row)\n",
        "    return pd.Series({\"prompt\": prompt, \"response\": response})\n",
        "\n",
        "formatted = balanced_df.apply(make_prompt_response, axis=1)\n",
        "\n",
        "formatted.to_json(\"loan_instruct_1000.jsonl\", orient=\"records\", lines=True)"
      ],
      "metadata": {
        "colab": {
          "base_uri": "https://localhost:8080/"
        },
        "id": "jLsYY9zfZb-V",
        "outputId": "05c2a0f7-4b88-4936-c330-5cd13c215eda"
      },
      "execution_count": 2,
      "outputs": [
        {
          "output_type": "stream",
          "name": "stderr",
          "text": [
            "/tmp/ipython-input-2-4258893637.py:20: SettingWithCopyWarning: \n",
            "A value is trying to be set on a copy of a slice from a DataFrame.\n",
            "Try using .loc[row_indexer,col_indexer] = value instead\n",
            "\n",
            "See the caveats in the documentation: https://pandas.pydata.org/pandas-docs/stable/user_guide/indexing.html#returning-a-view-versus-a-copy\n",
            "  df[\"term\"] = df[\"term\"].str.extract(r\"(\\d+)\").astype(int)\n",
            "/tmp/ipython-input-2-4258893637.py:21: SettingWithCopyWarning: \n",
            "A value is trying to be set on a copy of a slice from a DataFrame.\n",
            "Try using .loc[row_indexer,col_indexer] = value instead\n",
            "\n",
            "See the caveats in the documentation: https://pandas.pydata.org/pandas-docs/stable/user_guide/indexing.html#returning-a-view-versus-a-copy\n",
            "  df[\"int_rate\"] = df[\"int_rate\"].str.rstrip(\"%\").astype(float)\n",
            "/tmp/ipython-input-2-4258893637.py:24: SettingWithCopyWarning: \n",
            "A value is trying to be set on a copy of a slice from a DataFrame.\n",
            "Try using .loc[row_indexer,col_indexer] = value instead\n",
            "\n",
            "See the caveats in the documentation: https://pandas.pydata.org/pandas-docs/stable/user_guide/indexing.html#returning-a-view-versus-a-copy\n",
            "  df[\"risk\"] = df[\"loan_status\"].apply(lambda x: \"Low Risk\" if x == \"Fully Paid\" else \"High Risk\")\n"
          ]
        }
      ]
    },
    {
      "cell_type": "code",
      "source": [],
      "metadata": {
        "id": "fuZECHKyZcYe"
      },
      "execution_count": null,
      "outputs": []
    }
  ]
}